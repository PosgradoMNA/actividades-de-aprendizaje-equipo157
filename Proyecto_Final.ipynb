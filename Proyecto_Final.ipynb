{
  "nbformat": 4,
  "nbformat_minor": 0,
  "metadata": {
    "colab": {
      "provenance": [],
      "authorship_tag": "ABX9TyPb2PHdd343mYqoSrKXW597",
      "include_colab_link": true
    },
    "kernelspec": {
      "name": "python3",
      "display_name": "Python 3"
    },
    "language_info": {
      "name": "python"
    }
  },
  "cells": [
    {
      "cell_type": "markdown",
      "metadata": {
        "id": "view-in-github",
        "colab_type": "text"
      },
      "source": [
        "<a href=\"https://colab.research.google.com/github/PosgradoMNA/actividades-de-aprendizaje-equipo157/blob/main/Proyecto_Final.ipynb\" target=\"_parent\"><img src=\"https://colab.research.google.com/assets/colab-badge.svg\" alt=\"Open In Colab\"/></a>"
      ]
    },
    {
      "cell_type": "markdown",
      "source": [
        "# TECNOLÓGICO DE MONTERREY\n",
        "## MAESTRÍA EN INTELIGENCIA ARTIFICIAL APLICADA\n",
        "## Grupo 157\n",
        "\n",
        "### Proyecto final - Avance 1\n",
        "\n",
        "1. Buscar en Internet un conjunto de datos que utilizará a lo largo del módulo de aprendizaje.\n",
        "\n",
        "  - El conjunto de datos puede provenir de cualquier portal de Internet que maneje datos abiertos o puede obtenerse de una empresa u organización. \\\n",
        "    **Respuesta:** Proviene de la página de Kaggle y los datos son públicos.\n",
        "\n",
        "    \\\n",
        "\n",
        "  - El conjunto de datos puede ser sobre cualquier tema, pero cuidando que esté relacionado con un problema social, ambiental o económico. \\\n",
        "    **Respuesta:** El dataset escogido hace referencia a clientes bancarios con indicadores de deserción (churn), el objetivo es predecir la rotación de clientes en un banco.\n",
        "\n",
        "    \\\n",
        "\n",
        "2. Redacción de una página, en jupyter notebook, como máximo que incluya lo siguiente:\n",
        "\n",
        "  -\tEl nombre que caracteriza el conjunto de datos: Churn.csv\n",
        "  - La organización que lo generó: Mehmet Akturk (2020)\n",
        "  - Incluya un enlace de Internet donde se puedan descargar el base de datos en línea: Click para acceder a la dirección donde se puede descargar la información [Link](https://www.kaggle.com/datasets/mathchi/churn-for-bank-customers). \n",
        "  - Describe el conjunto de datos. ¿Qué datos contiene?:\n",
        "    - **RowNumber:** Corresponde al número de registro (fila).\n",
        "    - **CustomerId:** Contiene valores aleatorios del cliente del banco.\n",
        "    - **Surname:** El apellido del cliente.\n",
        "    - **CreditScore:** Puntaje de crédito del cliente.\n",
        "    - **Geography:** La ubicación del cliente.\n",
        "    - **Gender:** Género del cliente.\n",
        "    - **Age:** Edad del cliente.\n",
        "    - **Tenure:** Se refiere a la cantidad de años que el cliente ha sido cliente del banco.\n",
        "    - **Balance:** Saldo del cliente en sus cuentas.\n",
        "    - **NumOfProducts:** Se refiere a la cantidad de productos que un cliente ha comprado a través del banco.\n",
        "    - **HasCrCard:** Indica si un cliente tiene o no una tarjeta de crédito.\n",
        "    - **IsActiveMember:** es menos probable que los clientes activos abandonen el banco.\n",
        "    - **EstimatedSalary:** Estimación del salario del cliente.\n",
        "    - **Exited:** si el cliente salió o no del banco.\n",
        " - ¿Cuáles son algunas de las preguntas de investigación que podría responder con estos datos? Enumere al menos OCHO (no responda las preguntas).\n",
        "    - ¿Qué acciones tomar para que el cliente no deserte del banco?\n",
        "    -\t¿Qué razón existe para que el cliente quiera irse del banco?\n",
        "    - ¿Qué comportamiento tienen los cliente que desertan?\n",
        "    - ¿Cuál es el índice de deserción global del banco?\n",
        "    -\t¿Qué saldo es el que dejamos de manejar con la deserción?\n",
        "    - ¿Qué perfil tiene el cliente que se queda en el banco?\n",
        "    - ¿Antes de desertar un cliente es inactivo?\n",
        "    - ¿Los clientes que desertan en promedio cuantos años han permanecido en el banco?\n",
        " - ¿Qué actor (empresa, sector de la sociedad, organismo descentralizado, gobierno, etc.) estaría interesado en las preguntas mencionadas que identificó \\ **Respuesta:** Las personas que forma el área del negocio del banco con el fin de identificar a tiempo al cliente que piensa marcharse del banco y ofrecerle ofertas especiales con un trato más personalizado.\n",
        "\n",
        "Bibliografía: \\\n",
        "[1] Kaggle: Your Machine Learning and Data Science Community. (s. f.). Kaggle. Recuperado 9 de Abril de 2022, de https://www.kaggle.com\n"
      ],
      "metadata": {
        "id": "A5AHJVwi1pac"
      }
    }
  ]
}